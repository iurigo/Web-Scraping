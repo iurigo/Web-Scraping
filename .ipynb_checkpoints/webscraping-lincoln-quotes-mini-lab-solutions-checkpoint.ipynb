{
 "cells": [
  {
   "cell_type": "markdown",
   "metadata": {},
   "source": [
    "\n",
    "# Automated Data Collection: Lincoln Quotes\n",
    "\n",
    "\n",
    "---\n",
    "\n",
    "For this mini-lab, you are asked to produce a list of all of Lincoln's quotes available on this page: http://www.successories.com/iquote/author/291/abraham-lincoln-quotes/1 \n",
    "\n",
    "Use the `requests` and `BeautifulSoup` libraries in Python.\n",
    "\n",
    "For a bonus, collect all the quotes from each page available on Successories."
   ]
  },
  {
   "cell_type": "code",
   "execution_count": 8,
   "metadata": {
    "collapsed": true
   },
   "outputs": [],
   "source": [
    "import requests\n",
    "from bs4 import BeautifulSoup\n",
    "from scrapy import Selector"
   ]
  },
  {
   "cell_type": "markdown",
   "metadata": {},
   "source": [
    "## Using `scrapy` and `xpath`"
   ]
  },
  {
   "cell_type": "code",
   "execution_count": 42,
   "metadata": {},
   "outputs": [
    {
     "name": "stdout",
     "output_type": "stream",
     "text": [
      "number of quotes before checking for duplicates:  242\n",
      "number of quotes after removing duplicates:  242\n",
      "longest quote has 411 characters\n",
      "\n",
      "\"Fourscore and seven years ago our fathers brought forth upon this continent a new nation, conceived in liberty, and dedicated to the proposition that all men are created equal. We here highly resolve that the dead shall not have died in vain, that this nation, under God, shall have a new birth of freedom; and that government of the people, by the people, and for the people, shall not perish from the earth.\"\n"
     ]
    }
   ],
   "source": [
    "URL = \"http://www.successories.com/iquote/author/291/abraham-lincoln-quotes/1\"\n",
    "quotes = []\n",
    "\n",
    "while True:\n",
    "    HTML = \"\"\n",
    "    response = requests.get(URL)\n",
    "    if response.status_code != 200:\n",
    "        print \"something went wrong: status code = \", response.status_code\n",
    "        print \"failed URL = \", URL\n",
    "        break\n",
    "    else:\n",
    "        HTML = response.content\n",
    "    # select the quotes on the current page\n",
    "    # and add them to the list of quotes\n",
    "    quotes.extend(Selector(text=HTML).xpath(\"\"\"//div[@class=\"quote\"]/a/text()\"\"\").extract())\n",
    "    # code to find the link to the next page of results \n",
    "    next_links = Selector(text=HTML).xpath(\"\"\"//img[@alt=\"Next\"]/ancestor::a/@href\"\"\").extract()\n",
    "    if len(next_links) > 0:\n",
    "        URL = next_links[0]\n",
    "    else:\n",
    "        break\n",
    "# check for and remove duplicates\n",
    "print \"number of quotes before checking for duplicates: \",len(quotes)\n",
    "quotes = list(set(quotes))  # simple duplicate checking with sets\n",
    "print \"number of quotes after removing duplicates: \",len(quotes)\n",
    "quote_lengths = [len(quote) for quote in quotes]\n",
    "print \"longest quote has {} characters\".format(max(quote_lengths))\n",
    "print\n",
    "print quotes[quote_lengths.index(max(quote_lengths))]"
   ]
  },
  {
   "cell_type": "markdown",
   "metadata": {},
   "source": [
    "## Using `BeautifulSoup`"
   ]
  },
  {
   "cell_type": "code",
   "execution_count": 5,
   "metadata": {
    "collapsed": true
   },
   "outputs": [],
   "source": [
    "# declare a list\n",
    "lincoln_quotes = []\n",
    "\n",
    "# iteraterate through the 13 pages of lincoln quotes\n",
    "for page in range(1,14):\n",
    "    \n",
    "    # make request for that page\n",
    "    r = requests.get(\"http://www.successories.com/iquote/author/291/abraham-lincoln-quotes/%s\" % page)\n",
    "    \n",
    "    # turn into a BeautifulSoup object\n",
    "    soup = BeautifulSoup(r.text, 'lxml')\n",
    "    \n",
    "    # find quotes on page\n",
    "    quotes = soup.find_all(name='div', attrs={'class':'quote'})\n",
    "    \n",
    "    # add to our quotes list\n",
    "    for quote in quotes:\n",
    "        lincoln_quotes.append(quote.text)"
   ]
  },
  {
   "cell_type": "code",
   "execution_count": 6,
   "metadata": {},
   "outputs": [
    {
     "name": "stdout",
     "output_type": "stream",
     "text": [
      "242\n",
      "[u'\"Having thus chosen our course, without guile and with pure purpose, let us renew our trust in God, and go forward without fear and with manly hearts.\"', u'\"You have to do your own growing no matter how tall your grandfather was.\"', u'\"I have been driven many times to my knees by the overwhelming conviction that I had nowhere to go. My own wisdom, and that of all about me, seemed insufficient for the day.\"', u'\"I see a very dark cloud on America\\'s horizon, and that cloud is coming from Rome\"', u'\"Things may come to those who wait...but only the things left by those who hustle.\"']\n"
     ]
    }
   ],
   "source": [
    "print(len(lincoln_quotes))\n",
    "print(lincoln_quotes[0:5])"
   ]
  },
  {
   "cell_type": "code",
   "execution_count": 7,
   "metadata": {},
   "outputs": [
    {
     "data": {
      "text/plain": [
       "242"
      ]
     },
     "execution_count": 7,
     "metadata": {},
     "output_type": "execute_result"
    }
   ],
   "source": [
    "len(set(lincoln_quotes))"
   ]
  },
  {
   "cell_type": "code",
   "execution_count": null,
   "metadata": {
    "collapsed": true
   },
   "outputs": [],
   "source": []
  }
 ],
 "metadata": {
  "kernelspec": {
   "display_name": "Python 2",
   "language": "python",
   "name": "python2"
  },
  "language_info": {
   "codemirror_mode": {
    "name": "ipython",
    "version": 2
   },
   "file_extension": ".py",
   "mimetype": "text/x-python",
   "name": "python",
   "nbconvert_exporter": "python",
   "pygments_lexer": "ipython2",
   "version": "2.7.13"
  }
 },
 "nbformat": 4,
 "nbformat_minor": 2
}
