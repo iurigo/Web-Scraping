{
 "cells": [
  {
   "cell_type": "code",
   "execution_count": 1,
   "metadata": {
    "collapsed": true,
    "slideshow": {
     "slide_type": "skip"
    }
   },
   "outputs": [],
   "source": [
    "import pandas as pd\n",
    "import numpy as np"
   ]
  },
  {
   "cell_type": "markdown",
   "metadata": {
    "slideshow": {
     "slide_type": "slide"
    }
   },
   "source": [
    "# Beautiful Soup Refresher\n"
   ]
  },
  {
   "cell_type": "markdown",
   "metadata": {
    "slideshow": {
     "slide_type": "slide"
    }
   },
   "source": [
    "## First: HTTP Response Codes"
   ]
  },
  {
   "cell_type": "markdown",
   "metadata": {
    "slideshow": {
     "slide_type": "-"
    }
   },
   "source": [
    "- 1XX - Informational\n",
    "- 2XX - Success\n",
    "- 3XX - Redirection\n",
    "- 4XX - Client Error\n",
    "- 5XX - Server Error"
   ]
  },
  {
   "cell_type": "markdown",
   "metadata": {
    "slideshow": {
     "slide_type": "slide"
    }
   },
   "source": [
    "### Response Codes - The Greatest Hits"
   ]
  },
  {
   "cell_type": "markdown",
   "metadata": {
    "slideshow": {
     "slide_type": "-"
    }
   },
   "source": [
    "- **200 - OK** - The requested action was successfully executed\n",
    "- **301 - Moved Permanently** - The resource has been relocated (and will not be back, so please stop asking me)\n",
    "- **400 - Bad Request** - The the client request is malformed in some way\n",
    "- **403 - Forbidden** - The requesting client (i.e. you) does not have permission to view the resource\n",
    "- **404 - Not Found** - The resource can't be found at the moment (may be in the future, so check back later)\n",
    "- **405 - Method Not Allowed** - Used GET when only POST was applicable for example\n",
    "- **418 - I'm a teapot** - For when the server is a teapot\n",
    "- **420 - NOT an HTTP code** - you're thinking of something else\n",
    "- **429 - Too Many Requests** - They're on to you, and if you keep it up, they'll block you permenantly\n",
    "- **500 - Internal Server Error** -Some non-specific bad happened on their end\n",
    "- **502 - Bad Gateway** - The server was waiting on another resource and it ended badly\n",
    "- **503 - Service Unavailable** - The server is overloaded or down at the moment"
   ]
  },
  {
   "cell_type": "code",
   "execution_count": 2,
   "metadata": {
    "collapsed": true,
    "slideshow": {
     "slide_type": "-"
    }
   },
   "outputs": [],
   "source": [
    "import requests"
   ]
  },
  {
   "cell_type": "code",
   "execution_count": 3,
   "metadata": {
    "collapsed": true,
    "slideshow": {
     "slide_type": "-"
    }
   },
   "outputs": [],
   "source": [
    "r = requests.get('http://news.ycombinator.com')"
   ]
  },
  {
   "cell_type": "markdown",
   "metadata": {
    "slideshow": {
     "slide_type": "slide"
    }
   },
   "source": [
    "## We can check the response code"
   ]
  },
  {
   "cell_type": "code",
   "execution_count": 4,
   "metadata": {
    "slideshow": {
     "slide_type": "-"
    }
   },
   "outputs": [
    {
     "data": {
      "text/plain": [
       "<Response [200]>"
      ]
     },
     "execution_count": 4,
     "metadata": {},
     "output_type": "execute_result"
    }
   ],
   "source": [
    "r"
   ]
  },
  {
   "cell_type": "markdown",
   "metadata": {
    "slideshow": {
     "slide_type": "slide"
    }
   },
   "source": [
    "## DOM"
   ]
  },
  {
   "cell_type": "markdown",
   "metadata": {
    "slideshow": {
     "slide_type": "-"
    }
   },
   "source": [
    "> The Document Object Model (DOM) is a programming interface for HTML and XML documents. It provides a structured representation of the document and it defines a way that the structure can be accessed from programs so that they can change the document structure, style and content. The DOM provides a representation of the document as a structured group of nodes and objects that have properties and methods. Essentially, it connects web pages to scripts or programming languages."
   ]
  },
  {
   "cell_type": "markdown",
   "metadata": {
    "slideshow": {
     "slide_type": "slide"
    }
   },
   "source": [
    "## Typical Web Page Structure"
   ]
  },
  {
   "cell_type": "markdown",
   "metadata": {
    "slideshow": {
     "slide_type": "-"
    }
   },
   "source": [
    "    <html>\n",
    "        <head>\n",
    "        </head>\n",
    "        <body>\n",
    "            <div id=\"header\" class=\"extraFancy\">I'm a header!</div>\n",
    "            <div id=\"main\">\n",
    "                I'm a div!\n",
    "                <ul>\n",
    "                    I'm an unordered list!\n",
    "                    <li>I'm list item 1</li>\n",
    "                    <li>I'm list item 2</li>\n",
    "                </ul>\n",
    "            </div>\n",
    "            <div id=\"footer\" class=\"extraFancy\">I'm a footer</div>\n",
    "        </body>\n",
    "    </html>"
   ]
  },
  {
   "cell_type": "code",
   "execution_count": 5,
   "metadata": {
    "collapsed": true,
    "slideshow": {
     "slide_type": "slide"
    }
   },
   "outputs": [],
   "source": [
    "page_html = \"\"\"\n",
    "    <html>\n",
    "        <head>\n",
    "        <title>Super Cool Website!</title>\n",
    "        </head>\n",
    "        <body>\n",
    "            <div id=\"header\" class=\"extraFancy\">I'm a header!</div>\n",
    "            <div id=\"main\">\n",
    "                I'm a div!\n",
    "                <ul>\n",
    "                    I'm an unordered list!\n",
    "                    <li>I'm list item 1</li>\n",
    "                    <li>I'm list item 2</li>\n",
    "                </ul>\n",
    "            </div>\n",
    "            <div id=\"footer\" class=\"extraFancy\">I'm a footer</div>\n",
    "        </body>\n",
    "    </html>\n",
    "\"\"\""
   ]
  },
  {
   "cell_type": "markdown",
   "metadata": {
    "slideshow": {
     "slide_type": "slide"
    }
   },
   "source": [
    "## We're going to feed this full HTML into a library called Beautiful Soup"
   ]
  },
  {
   "cell_type": "markdown",
   "metadata": {
    "slideshow": {
     "slide_type": "-"
    }
   },
   "source": [
    "<img src=\"http://i.imgur.com/klVeXY7.png\" width=\"800\">"
   ]
  },
  {
   "cell_type": "markdown",
   "metadata": {
    "slideshow": {
     "slide_type": "slide"
    }
   },
   "source": [
    "## Coding BeautifulSoup"
   ]
  },
  {
   "cell_type": "code",
   "execution_count": 6,
   "metadata": {
    "collapsed": true,
    "slideshow": {
     "slide_type": "-"
    }
   },
   "outputs": [],
   "source": [
    "from bs4 import BeautifulSoup"
   ]
  },
  {
   "cell_type": "markdown",
   "metadata": {
    "slideshow": {
     "slide_type": "slide"
    }
   },
   "source": [
    "## Pass the HTML into the BS object"
   ]
  },
  {
   "cell_type": "code",
   "execution_count": 7,
   "metadata": {
    "collapsed": true,
    "slideshow": {
     "slide_type": "-"
    }
   },
   "outputs": [],
   "source": [
    "soup = BeautifulSoup(page_html, \"lxml\")"
   ]
  },
  {
   "cell_type": "markdown",
   "metadata": {
    "slideshow": {
     "slide_type": "-"
    }
   },
   "source": [
    "From there it can be searched and parsed"
   ]
  },
  {
   "cell_type": "markdown",
   "metadata": {
    "slideshow": {
     "slide_type": "slide"
    }
   },
   "source": [
    "## Print the html"
   ]
  },
  {
   "cell_type": "code",
   "execution_count": 8,
   "metadata": {
    "slideshow": {
     "slide_type": "-"
    }
   },
   "outputs": [
    {
     "name": "stdout",
     "output_type": "stream",
     "text": [
      "<html>\n",
      " <head>\n",
      "  <title>\n",
      "   Super Cool Website!\n",
      "  </title>\n",
      " </head>\n",
      " <body>\n",
      "  <div class=\"extraFancy\" id=\"header\">\n",
      "   I'm a header!\n",
      "  </div>\n",
      "  <div id=\"main\">\n",
      "   I'm a div!\n",
      "   <ul>\n",
      "    I'm an unordered list!\n",
      "    <li>\n",
      "     I'm list item 1\n",
      "    </li>\n",
      "    <li>\n",
      "     I'm list item 2\n",
      "    </li>\n",
      "   </ul>\n",
      "  </div>\n",
      "  <div class=\"extraFancy\" id=\"footer\">\n",
      "   I'm a footer\n",
      "  </div>\n",
      " </body>\n",
      "</html>\n",
      "\n"
     ]
    }
   ],
   "source": [
    "print soup.prettify()"
   ]
  },
  {
   "cell_type": "markdown",
   "metadata": {
    "slideshow": {
     "slide_type": "slide"
    }
   },
   "source": [
    "## Let's now do some parsing of the HTML using the DOM"
   ]
  },
  {
   "cell_type": "markdown",
   "metadata": {
    "slideshow": {
     "slide_type": "slide"
    }
   },
   "source": [
    "## Get the title"
   ]
  },
  {
   "cell_type": "code",
   "execution_count": 9,
   "metadata": {
    "scrolled": false,
    "slideshow": {
     "slide_type": "-"
    }
   },
   "outputs": [
    {
     "data": {
      "text/plain": [
       "<title>Super Cool Website!</title>"
      ]
     },
     "execution_count": 9,
     "metadata": {},
     "output_type": "execute_result"
    }
   ],
   "source": [
    "soup.title"
   ]
  },
  {
   "cell_type": "code",
   "execution_count": 10,
   "metadata": {
    "slideshow": {
     "slide_type": "-"
    }
   },
   "outputs": [
    {
     "data": {
      "text/plain": [
       "u'Super Cool Website!'"
      ]
     },
     "execution_count": 10,
     "metadata": {},
     "output_type": "execute_result"
    }
   ],
   "source": [
    "soup.title.text"
   ]
  },
  {
   "cell_type": "markdown",
   "metadata": {
    "slideshow": {
     "slide_type": "slide"
    }
   },
   "source": [
    "## Find - get the first result"
   ]
  },
  {
   "cell_type": "code",
   "execution_count": 11,
   "metadata": {
    "slideshow": {
     "slide_type": "-"
    }
   },
   "outputs": [
    {
     "data": {
      "text/plain": [
       "<div class=\"extraFancy\" id=\"header\">I'm a header!</div>"
      ]
     },
     "execution_count": 11,
     "metadata": {},
     "output_type": "execute_result"
    }
   ],
   "source": [
    "soup.find('div')"
   ]
  },
  {
   "cell_type": "markdown",
   "metadata": {
    "slideshow": {
     "slide_type": "slide"
    }
   },
   "source": [
    "## FindAll - get all matching results"
   ]
  },
  {
   "cell_type": "code",
   "execution_count": 12,
   "metadata": {
    "slideshow": {
     "slide_type": "-"
    }
   },
   "outputs": [
    {
     "name": "stdout",
     "output_type": "stream",
     "text": [
      "0 <div class=\"extraFancy\" id=\"header\">I'm a header!</div>\n",
      "\n",
      "\n",
      "1 <div id=\"main\">\n",
      "                I'm a div!\n",
      "                <ul>\n",
      "                    I'm an unordered list!\n",
      "                    <li>I'm list item 1</li>\n",
      "<li>I'm list item 2</li>\n",
      "</ul>\n",
      "</div>\n",
      "\n",
      "\n",
      "2 <div class=\"extraFancy\" id=\"footer\">I'm a footer</div>\n",
      "\n",
      "\n"
     ]
    }
   ],
   "source": [
    "i = 0\n",
    "for d in soup.findAll('div'):\n",
    "    print i, d\n",
    "    print '\\n'\n",
    "    i += 1"
   ]
  },
  {
   "cell_type": "markdown",
   "metadata": {
    "slideshow": {
     "slide_type": "slide"
    }
   },
   "source": [
    "## Get the page's text"
   ]
  },
  {
   "cell_type": "code",
   "execution_count": 13,
   "metadata": {
    "slideshow": {
     "slide_type": "-"
    }
   },
   "outputs": [
    {
     "name": "stdout",
     "output_type": "stream",
     "text": [
      "\n",
      "\n",
      "Super Cool Website!\n",
      "\n",
      "\n",
      "I'm a header!\n",
      "\n",
      "                I'm a div!\n",
      "                \n",
      "                    I'm an unordered list!\n",
      "                    I'm list item 1\n",
      "I'm list item 2\n",
      "\n",
      "\n",
      "I'm a footer\n",
      "\n",
      "\n",
      "\n"
     ]
    }
   ],
   "source": [
    "print soup.text"
   ]
  },
  {
   "cell_type": "markdown",
   "metadata": {
    "slideshow": {
     "slide_type": "slide"
    }
   },
   "source": [
    "## Get the class of an element"
   ]
  },
  {
   "cell_type": "code",
   "execution_count": 14,
   "metadata": {
    "slideshow": {
     "slide_type": "-"
    }
   },
   "outputs": [
    {
     "data": {
      "text/plain": [
       "['extraFancy']"
      ]
     },
     "execution_count": 14,
     "metadata": {},
     "output_type": "execute_result"
    }
   ],
   "source": [
    "# find returns the first result\n",
    "soup.find('div')['class']"
   ]
  },
  {
   "cell_type": "markdown",
   "metadata": {
    "slideshow": {
     "slide_type": "slide"
    }
   },
   "source": [
    "## Search by the id of an element"
   ]
  },
  {
   "cell_type": "code",
   "execution_count": 15,
   "metadata": {
    "slideshow": {
     "slide_type": "-"
    }
   },
   "outputs": [
    {
     "name": "stdout",
     "output_type": "stream",
     "text": [
      "<div id=\"main\">\n",
      "                I'm a div!\n",
      "                <ul>\n",
      "                    I'm an unordered list!\n",
      "                    <li>I'm list item 1</li>\n",
      "<li>I'm list item 2</li>\n",
      "</ul>\n",
      "</div>\n"
     ]
    }
   ],
   "source": [
    "print soup.find(id='main')"
   ]
  },
  {
   "cell_type": "markdown",
   "metadata": {
    "slideshow": {
     "slide_type": "slide"
    }
   },
   "source": [
    "## Search by the class"
   ]
  },
  {
   "cell_type": "code",
   "execution_count": 16,
   "metadata": {
    "slideshow": {
     "slide_type": "-"
    }
   },
   "outputs": [
    {
     "name": "stdout",
     "output_type": "stream",
     "text": [
      "[<div class=\"extraFancy\" id=\"header\">I'm a header!</div>, <div class=\"extraFancy\" id=\"footer\">I'm a footer</div>]\n"
     ]
    }
   ],
   "source": [
    "#  note the underscore after class\n",
    "print soup.findAll(class_='extraFancy')"
   ]
  },
  {
   "cell_type": "markdown",
   "metadata": {
    "slideshow": {
     "slide_type": "slide"
    }
   },
   "source": [
    "## Get the children of an element"
   ]
  },
  {
   "cell_type": "code",
   "execution_count": 17,
   "metadata": {
    "collapsed": true,
    "slideshow": {
     "slide_type": "-"
    }
   },
   "outputs": [],
   "source": [
    "my_ul = soup.find('ul')"
   ]
  },
  {
   "cell_type": "code",
   "execution_count": 18,
   "metadata": {
    "slideshow": {
     "slide_type": "-"
    }
   },
   "outputs": [
    {
     "name": "stdout",
     "output_type": "stream",
     "text": [
      "<ul>\n",
      "                    I'm an unordered list!\n",
      "                    <li>I'm list item 1</li>\n",
      "<li>I'm list item 2</li>\n",
      "</ul>\n"
     ]
    }
   ],
   "source": [
    "print my_ul"
   ]
  },
  {
   "cell_type": "code",
   "execution_count": 19,
   "metadata": {
    "slideshow": {
     "slide_type": "-"
    }
   },
   "outputs": [
    {
     "data": {
      "text/plain": [
       "[<li>I'm list item 1</li>, <li>I'm list item 2</li>]"
      ]
     },
     "execution_count": 19,
     "metadata": {},
     "output_type": "execute_result"
    }
   ],
   "source": [
    "my_ul.findChildren()"
   ]
  },
  {
   "cell_type": "markdown",
   "metadata": {
    "slideshow": {
     "slide_type": "slide"
    }
   },
   "source": [
    "## Exercise\n",
    "\n",
    "Using Requests and BeautifulSoup, pull down hacker news and print out the headlines and the story links in your notebook"
   ]
  },
  {
   "cell_type": "code",
   "execution_count": 20,
   "metadata": {
    "collapsed": true,
    "slideshow": {
     "slide_type": "slide"
    }
   },
   "outputs": [],
   "source": [
    "hn = requests.get('http://news.ycombinator.com')"
   ]
  },
  {
   "cell_type": "code",
   "execution_count": 21,
   "metadata": {
    "collapsed": true,
    "slideshow": {
     "slide_type": "slide"
    }
   },
   "outputs": [],
   "source": [
    "# pass the content into BS\n",
    "hn_soup = BeautifulSoup(hn.content, \"lxml\")"
   ]
  },
  {
   "cell_type": "code",
   "execution_count": 22,
   "metadata": {
    "scrolled": true,
    "slideshow": {
     "slide_type": "-"
    }
   },
   "outputs": [
    {
     "name": "stdout",
     "output_type": "stream",
     "text": [
      "Big Companies and the Military Are Paying Novelists to Write Sci-Fi for Them\n",
      "http://www.newyorker.com/tech/elements/better-business-through-sci-fi\n",
      "\n",
      "\n",
      "Linux Load Averages: Solving the Mystery\n",
      "http://www.brendangregg.com/blog/2017-08-08/linux-load-averages.html\n",
      "\n",
      "\n",
      "Despite S.E.C. Warning, Wave of Initial Coin Offerings Grows\n",
      "https://www.nytimes.com/2017/08/07/business/dealbook/initial-coin-offerings-sec-virtual-currency.html\n",
      "\n",
      "\n",
      "Cruise is running an autonomous ride hailing service for employees in SF\n",
      "https://techcrunch.com/2017/08/08/cruise-is-running-an-autonomous-ride-hailing-service-for-employees-in-sf/\n",
      "\n",
      "\n",
      "SKYACTIV-X: first commercial gasoline engine to use compression ignition\n",
      "http://www2.mazda.com/en/publicity/release/2017/201708/170808a.html\n",
      "\n",
      "\n",
      "Mongoose OS – An Open Source Operating System for the Internet of Things\n",
      "https://mongoose-os.com/\n",
      "\n",
      "\n",
      "Show HN: An interactive guide to compression basics\n",
      "http://unwttng.com/compression-decompressed\n",
      "\n",
      "\n",
      "Instagram photos reveal predictive markers of depression\n",
      "https://epjdatascience.springeropen.com/articles/10.1140/epjds/s13688-017-0110-z\n",
      "\n",
      "\n",
      "Launch HN: Muzmatch (YC S17) – A place where 400M single Muslims can meet\n",
      "item?id=14959835\n",
      "\n",
      "\n",
      "Show HN: C++ runtime/compile-time detection in constexpr functions\n",
      "https://github.com/SaadAhmad/in_constexpr\n",
      "\n",
      "\n",
      "Deeplearning.ai: Announcing New Deep Learning Courses on Coursera\n",
      "https://medium.com/@andrewng/deeplearning-ai-announcing-new-deep-learning-courses-on-coursera-43af0a368116\n",
      "\n",
      "\n",
      "North Korea now making missile-ready nuclear weapons, U.S. analysts say\n",
      "https://www.washingtonpost.com/world/national-security/north-korea-now-making-missile-ready-nuclear-weapons-us-analysts-say/2017/08/08/e14b882a-7b6b-11e7-9d08-b79f191668ed_story.html?utm_term=.26853f6f9979\n",
      "\n",
      "\n",
      "Tapetail, Bignose and Whalefish turn out to be the same fish\n",
      "http://www.aquaticcommunity.com/news/lib/195\n",
      "\n",
      "\n",
      "Virtualizing ARM TrustZone [pdf]\n",
      "http://ipads.se.sjtu.edu.cn/lib/exe/fetch.php?media=publications:vtz.pdf\n",
      "\n",
      "\n",
      "Do Things That Don’t Scale (2013)\n",
      "http://paulgraham.com/ds.html\n",
      "\n",
      "\n",
      "Dark Matter May Be Trapped in All the Black Holes\n",
      "http://nautil.us/blog/dark-matter-may-be-trapped-in-all-the-black-holes\n",
      "\n",
      "\n",
      "Ask HN: Website go-live checklist app\n",
      "item?id=14958394\n",
      "\n",
      "\n",
      "Stanford bioengineers encourage virtual competitors to vie for athletic title\n",
      "http://news.stanford.edu/2017/08/07/virtual-competitors-vie-different-kind-athletic-title/\n",
      "\n",
      "\n",
      "A marriage of war and peace: the tumultuous world of Lev and Sonya Tolstoy\n",
      "http://www.newstatesman.com/culture/books/2017/08/marriage-war-and-peace-tumultuous-world-lev-and-sonya-tolstoy\n",
      "\n",
      "\n",
      "Why Elephants Don’t Explode: How Nature Solves Bigness\n",
      "http://noticing.co/on-size-and-metabolism/\n",
      "\n",
      "\n",
      "A Systematic Analysis of the Juniper Dual EC Incident [pdf]\n",
      "https://www.cs.uic.edu/~s/papers/juniper2016/juniper2016.pdf\n",
      "\n",
      "\n",
      "Why Germans pay cash for almost everything\n",
      "https://qz.com/262595/why-germans-pay-cash-for-almost-everything/\n",
      "\n",
      "\n",
      "In Defense of Probability (1985) [pdf]\n",
      "https://www.ijcai.org/Proceedings/85-2/Papers/064.pdf\n",
      "\n",
      "\n",
      "Roger McNamee: I invested early in Google and Facebook and regret it\n",
      "https://www.usatoday.com/story/opinion/2017/08/08/my-google-and-facebook-investments-made-fortune-but-now-they-menace/543755001/\n",
      "\n",
      "\n",
      "Gigster (on-demand developer teams) is hiring in sales and engineering\n",
      "https://jobs.lever.co/gigster\n",
      "\n",
      "\n",
      "Complex animated transitions in React\n",
      "https://github.com/sghall/resonance\n",
      "\n",
      "\n",
      "Bringing Call Gates Back\n",
      "http://www.alex-ionescu.com/?p=340\n",
      "\n",
      "\n",
      "Our Broken Economy, in One Simple Chart\n",
      "https://www.nytimes.com/interactive/2017/08/07/opinion/leonhardt-income-inequality.html\n",
      "\n",
      "\n",
      "The Most Common Error in Media Coverage of the Google Memo\n",
      "https://www.theatlantic.com/politics/archive/2017/08/the-most-common-error-in-coverage-of-the-google-memo/536181/?single_page=true\n",
      "\n",
      "\n",
      "Treasured Island: Robert Louis Stevenson in Samoa\n",
      "https://literaryreview.co.uk/treasured-island\n",
      "\n",
      "\n"
     ]
    }
   ],
   "source": [
    "for link in hn_soup.findAll('a', class_='storylink'):\n",
    "    print link.text\n",
    "    print link['href']\n",
    "    print '\\n'"
   ]
  },
  {
   "cell_type": "code",
   "execution_count": null,
   "metadata": {
    "collapsed": true
   },
   "outputs": [],
   "source": []
  }
 ],
 "metadata": {
  "anaconda-cloud": {},
  "celltoolbar": "Slideshow",
  "kernelspec": {
   "display_name": "Python 2",
   "language": "python",
   "name": "python2"
  },
  "language_info": {
   "codemirror_mode": {
    "name": "ipython",
    "version": 2
   },
   "file_extension": ".py",
   "mimetype": "text/x-python",
   "name": "python",
   "nbconvert_exporter": "python",
   "pygments_lexer": "ipython2",
   "version": "2.7.13"
  }
 },
 "nbformat": 4,
 "nbformat_minor": 1
}
